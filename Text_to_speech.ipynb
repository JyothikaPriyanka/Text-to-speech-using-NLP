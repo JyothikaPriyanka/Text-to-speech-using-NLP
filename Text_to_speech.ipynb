{
 "cells": [
  {
   "cell_type": "code",
   "execution_count": 1,
   "id": "5b4b4401",
   "metadata": {},
   "outputs": [
    {
     "name": "stdout",
     "output_type": "stream",
     "text": [
      "Requirement already satisfied: nltk in c:\\users\\jyothika priyanka\\anaconda3\\lib\\site-packages (3.6.1)\n",
      "Requirement already satisfied: regex in c:\\users\\jyothika priyanka\\anaconda3\\lib\\site-packages (from nltk) (2021.4.4)\n",
      "Requirement already satisfied: joblib in c:\\users\\jyothika priyanka\\anaconda3\\lib\\site-packages (from nltk) (1.0.1)\n",
      "Requirement already satisfied: tqdm in c:\\users\\jyothika priyanka\\anaconda3\\lib\\site-packages (from nltk) (4.59.0)\n",
      "Requirement already satisfied: click in c:\\users\\jyothika priyanka\\anaconda3\\lib\\site-packages (from nltk) (7.1.2)\n"
     ]
    }
   ],
   "source": [
    "!pip install nltk\n",
    "import nltk\n",
    "import nltk.corpus"
   ]
  },
  {
   "cell_type": "code",
   "execution_count": 3,
   "id": "d2b2c848",
   "metadata": {},
   "outputs": [
    {
     "name": "stderr",
     "output_type": "stream",
     "text": [
      "[nltk_data] Downloading package punkt to C:\\Users\\Jyothika\n",
      "[nltk_data]     Priyanka\\AppData\\Roaming\\nltk_data...\n",
      "[nltk_data]   Unzipping tokenizers\\punkt.zip.\n"
     ]
    },
    {
     "data": {
      "text/plain": [
       "True"
      ]
     },
     "execution_count": 3,
     "metadata": {},
     "output_type": "execute_result"
    }
   ],
   "source": [
    "import nltk\n",
    "nltk.download('punkt')\n",
    "  "
   ]
  },
  {
   "cell_type": "code",
   "execution_count": 4,
   "id": "894429ce",
   "metadata": {},
   "outputs": [
    {
     "data": {
      "text/plain": [
       "['Samay',\n",
       " 'Raina',\n",
       " 'is',\n",
       " 'the',\n",
       " 'best',\n",
       " 'chess',\n",
       " 'player',\n",
       " 'in',\n",
       " 'the',\n",
       " 'world']"
      ]
     },
     "execution_count": 4,
     "metadata": {},
     "output_type": "execute_result"
    }
   ],
   "source": [
    "#tokenization\n",
    "\n",
    "from nltk.tokenize import word_tokenize\n",
    "chess = \"Samay Raina is the best chess player in the world\"\n",
    "word_tokenize(chess)"
   ]
  },
  {
   "cell_type": "code",
   "execution_count": 5,
   "id": "b7c19e95",
   "metadata": {},
   "outputs": [
    {
     "data": {
      "text/plain": [
       "10"
      ]
     },
     "execution_count": 5,
     "metadata": {},
     "output_type": "execute_result"
    }
   ],
   "source": [
    "len(word_tokenize(chess))"
   ]
  },
  {
   "cell_type": "code",
   "execution_count": 6,
   "id": "c90f26e3",
   "metadata": {},
   "outputs": [
    {
     "data": {
      "text/plain": [
       "[('Can', 'anybody'),\n",
       " ('anybody', 'hear'),\n",
       " ('hear', 'me'),\n",
       " ('me', 'or'),\n",
       " ('or', 'am'),\n",
       " ('am', 'i'),\n",
       " ('i', 'talking'),\n",
       " ('talking', 'to'),\n",
       " ('to', 'myself'),\n",
       " ('myself', '?'),\n",
       " ('?', 'My'),\n",
       " ('My', 'mind'),\n",
       " ('mind', 'is'),\n",
       " ('is', 'running'),\n",
       " ('running', 'empty'),\n",
       " ('empty', 'in'),\n",
       " ('in', 'the'),\n",
       " ('the', 'search'),\n",
       " ('search', 'for'),\n",
       " ('for', 'someone'),\n",
       " ('someone', 'else')]"
      ]
     },
     "execution_count": 6,
     "metadata": {},
     "output_type": "execute_result"
    }
   ],
   "source": [
    "#n-grams\n",
    "#It calculates the probabilities of words that will come afterward\n",
    "\n",
    "astro =\"Can anybody hear me or am i talking to myself? My mind is running empty in the search for someone else\"\n",
    "astro_tk=(word_tokenize(astro))\n",
    "list(nltk.bigrams(astro_tk))"
   ]
  },
  {
   "cell_type": "code",
   "execution_count": 7,
   "id": "f5993a7c",
   "metadata": {},
   "outputs": [
    {
     "data": {
      "text/plain": [
       "[('Can', 'anybody', 'hear'),\n",
       " ('anybody', 'hear', 'me'),\n",
       " ('hear', 'me', 'or'),\n",
       " ('me', 'or', 'am'),\n",
       " ('or', 'am', 'i'),\n",
       " ('am', 'i', 'talking'),\n",
       " ('i', 'talking', 'to'),\n",
       " ('talking', 'to', 'myself'),\n",
       " ('to', 'myself', '?'),\n",
       " ('myself', '?', 'My'),\n",
       " ('?', 'My', 'mind'),\n",
       " ('My', 'mind', 'is'),\n",
       " ('mind', 'is', 'running'),\n",
       " ('is', 'running', 'empty'),\n",
       " ('running', 'empty', 'in'),\n",
       " ('empty', 'in', 'the'),\n",
       " ('in', 'the', 'search'),\n",
       " ('the', 'search', 'for'),\n",
       " ('search', 'for', 'someone'),\n",
       " ('for', 'someone', 'else')]"
      ]
     },
     "execution_count": 7,
     "metadata": {},
     "output_type": "execute_result"
    }
   ],
   "source": [
    "list(nltk.trigrams(astro_tk))"
   ]
  },
  {
   "cell_type": "code",
   "execution_count": 8,
   "id": "d01ec7a9",
   "metadata": {},
   "outputs": [
    {
     "data": {
      "text/plain": [
       "[('Can', 'anybody', 'hear', 'me', 'or'),\n",
       " ('anybody', 'hear', 'me', 'or', 'am'),\n",
       " ('hear', 'me', 'or', 'am', 'i'),\n",
       " ('me', 'or', 'am', 'i', 'talking'),\n",
       " ('or', 'am', 'i', 'talking', 'to'),\n",
       " ('am', 'i', 'talking', 'to', 'myself'),\n",
       " ('i', 'talking', 'to', 'myself', '?'),\n",
       " ('talking', 'to', 'myself', '?', 'My'),\n",
       " ('to', 'myself', '?', 'My', 'mind'),\n",
       " ('myself', '?', 'My', 'mind', 'is'),\n",
       " ('?', 'My', 'mind', 'is', 'running'),\n",
       " ('My', 'mind', 'is', 'running', 'empty'),\n",
       " ('mind', 'is', 'running', 'empty', 'in'),\n",
       " ('is', 'running', 'empty', 'in', 'the'),\n",
       " ('running', 'empty', 'in', 'the', 'search'),\n",
       " ('empty', 'in', 'the', 'search', 'for'),\n",
       " ('in', 'the', 'search', 'for', 'someone'),\n",
       " ('the', 'search', 'for', 'someone', 'else')]"
      ]
     },
     "execution_count": 8,
     "metadata": {},
     "output_type": "execute_result"
    }
   ],
   "source": [
    "list(nltk.ngrams(astro_tk,5))"
   ]
  },
  {
   "cell_type": "code",
   "execution_count": 9,
   "id": "6ab9525f",
   "metadata": {},
   "outputs": [
    {
     "data": {
      "text/plain": [
       "'shop'"
      ]
     },
     "execution_count": 9,
     "metadata": {},
     "output_type": "execute_result"
    }
   ],
   "source": [
    "#stemming\n",
    "\n",
    "from nltk.stem import PorterStemmer\n",
    "my_stem= PorterStemmer()\n",
    "\n",
    "#to find the root word\n",
    "my_stem.stem(\"shopping\")"
   ]
  },
  {
   "cell_type": "code",
   "execution_count": 10,
   "id": "deb61c2e",
   "metadata": {},
   "outputs": [
    {
     "name": "stderr",
     "output_type": "stream",
     "text": [
      "[nltk_data] Downloading package averaged_perceptron_tagger to\n",
      "[nltk_data]     C:\\Users\\Jyothika\n",
      "[nltk_data]     Priyanka\\AppData\\Roaming\\nltk_data...\n",
      "[nltk_data]   Unzipping taggers\\averaged_perceptron_tagger.zip.\n"
     ]
    },
    {
     "data": {
      "text/plain": [
       "[('Tom', 'NNP'),\n",
       " ('Hanks', 'NNP'),\n",
       " ('is', 'VBZ'),\n",
       " ('the', 'DT'),\n",
       " ('best', 'JJS'),\n",
       " ('actor', 'NN'),\n",
       " ('in', 'IN'),\n",
       " ('the', 'DT'),\n",
       " ('world', 'NN')]"
      ]
     },
     "execution_count": 10,
     "metadata": {},
     "output_type": "execute_result"
    }
   ],
   "source": [
    "#pos-tagging--partsOfSpeech\n",
    "'''nnp--proper noun\n",
    "vbz--verb\n",
    "dt--determiner/article\n",
    "jjs--superlative adj\n",
    "nn--noun...'''\n",
    "\n",
    "\n",
    "nltk.download('averaged_perceptron_tagger')\n",
    "tom=\"Tom Hanks is the best actor in the world\"\n",
    "tom_tk=word_tokenize(tom)\n",
    "nltk.pos_tag(tom_tk)"
   ]
  },
  {
   "cell_type": "code",
   "execution_count": 11,
   "id": "ea40778b",
   "metadata": {},
   "outputs": [
    {
     "name": "stderr",
     "output_type": "stream",
     "text": [
      "[nltk_data] Downloading package words to C:\\Users\\Jyothika\n",
      "[nltk_data]     Priyanka\\AppData\\Roaming\\nltk_data...\n",
      "[nltk_data]   Unzipping corpora\\words.zip.\n",
      "[nltk_data] Downloading package maxent_ne_chunker to C:\\Users\\Jyothika\n",
      "[nltk_data]     Priyanka\\AppData\\Roaming\\nltk_data...\n",
      "[nltk_data]   Unzipping chunkers\\maxent_ne_chunker.zip.\n"
     ]
    },
    {
     "name": "stdout",
     "output_type": "stream",
     "text": [
      "(S\n",
      "  (PERSON Obama/NNP)\n",
      "  was/VBD\n",
      "  the/DT\n",
      "  44th/JJ\n",
      "  president/NN\n",
      "  of/IN\n",
      "  (GPE America/NNP))\n"
     ]
    }
   ],
   "source": [
    "#named entity recognition\n",
    "\n",
    "\n",
    "nltk.download('words')\n",
    "nltk.download('maxent_ne_chunker')\n",
    "\n",
    "from nltk import ne_chunk\n",
    "pres=\"Obama was the 44th president of America\"\n",
    "pres_tk=word_tokenize(pres)\n",
    "\n",
    "pres_pos=nltk.pos_tag(pres_tk)\n",
    "print(ne_chunk(pres_pos))"
   ]
  },
  {
   "cell_type": "code",
   "execution_count": null,
   "id": "264d7989",
   "metadata": {},
   "outputs": [],
   "source": [
    "#text to speech"
   ]
  },
  {
   "cell_type": "code",
   "execution_count": 12,
   "id": "d8cc436d",
   "metadata": {},
   "outputs": [
    {
     "name": "stdout",
     "output_type": "stream",
     "text": [
      "Collecting gTTS\n",
      "  Downloading gTTS-2.5.1-py3-none-any.whl (29 kB)\n",
      "Requirement already satisfied: click<8.2,>=7.1 in c:\\users\\jyothika priyanka\\anaconda3\\lib\\site-packages (from gTTS) (7.1.2)\n",
      "Collecting requests<3,>=2.27\n",
      "  Downloading requests-2.31.0-py3-none-any.whl (62 kB)\n",
      "Requirement already satisfied: certifi>=2017.4.17 in c:\\users\\jyothika priyanka\\anaconda3\\lib\\site-packages (from requests<3,>=2.27->gTTS) (2020.12.5)\n",
      "Requirement already satisfied: idna<4,>=2.5 in c:\\users\\jyothika priyanka\\anaconda3\\lib\\site-packages (from requests<3,>=2.27->gTTS) (2.10)\n",
      "Collecting charset-normalizer<4,>=2\n",
      "  Downloading charset_normalizer-3.3.2-cp38-cp38-win_amd64.whl (99 kB)\n",
      "Requirement already satisfied: urllib3<3,>=1.21.1 in c:\\users\\jyothika priyanka\\anaconda3\\lib\\site-packages (from requests<3,>=2.27->gTTS) (1.26.4)\n",
      "Installing collected packages: charset-normalizer, requests, gTTS\n",
      "  Attempting uninstall: requests\n",
      "    Found existing installation: requests 2.25.1\n",
      "    Uninstalling requests-2.25.1:\n",
      "      Successfully uninstalled requests-2.25.1\n",
      "Successfully installed charset-normalizer-3.3.2 gTTS-2.5.1 requests-2.31.0\n"
     ]
    },
    {
     "name": "stderr",
     "output_type": "stream",
     "text": [
      "ERROR: pip's dependency resolver does not currently take into account all the packages that are installed. This behaviour is the source of the following dependency conflicts.\n",
      "conda-repo-cli 1.0.4 requires pathlib, which is not installed.\n",
      "anaconda-project 0.9.1 requires ruamel-yaml, which is not installed.\n"
     ]
    }
   ],
   "source": [
    "!pip install gTTS"
   ]
  },
  {
   "cell_type": "code",
   "execution_count": 13,
   "id": "c915cf3a",
   "metadata": {},
   "outputs": [
    {
     "name": "stdout",
     "output_type": "stream",
     "text": [
      "hello \n"
     ]
    },
    {
     "data": {
      "text/html": [
       "\n",
       "                <audio  controls=\"controls\" autoplay=\"autoplay\">\n",
       "                    <source src=\"data:audio/wav;base64,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\" type=\"audio/wav\" />\n",
       "                    Your browser does not support the audio element.\n",
       "                </audio>\n",
       "              "
      ],
      "text/plain": [
       "<IPython.lib.display.Audio object>"
      ]
     },
     "execution_count": 13,
     "metadata": {},
     "output_type": "execute_result"
    }
   ],
   "source": [
    "from gtts import gTTS\n",
    "from IPython.display import Audio #to play some audio\n",
    "\n",
    "tts=gTTS(input())\n",
    "tts.save('1.wav')  #tts to wav file\n",
    "soun='1.wav'\n",
    "Audio(soun,autoplay=True)  #playing wav file using audio method"
   ]
  },
  {
   "cell_type": "code",
   "execution_count": 16,
   "id": "b092c532",
   "metadata": {},
   "outputs": [
    {
     "name": "stdout",
     "output_type": "stream",
     "text": [
      "Collecting pyttsx3\n",
      "  Downloading pyttsx3-2.90-py3-none-any.whl (39 kB)\n",
      "Collecting pypiwin32\n",
      "  Downloading pypiwin32-223-py3-none-any.whl (1.7 kB)\n",
      "Requirement already satisfied: pywin32 in c:\\users\\jyothika priyanka\\anaconda3\\lib\\site-packages (from pyttsx3) (227)\n",
      "Requirement already satisfied: comtypes in c:\\users\\jyothika priyanka\\anaconda3\\lib\\site-packages (from pyttsx3) (1.1.9)\n",
      "Installing collected packages: pypiwin32, pyttsx3\n",
      "Successfully installed pypiwin32-223 pyttsx3-2.90\n"
     ]
    }
   ],
   "source": [
    "!pip install pyttsx3"
   ]
  },
  {
   "cell_type": "code",
   "execution_count": 17,
   "id": "bf9d5d8b",
   "metadata": {},
   "outputs": [
    {
     "name": "stdout",
     "output_type": "stream",
     "text": [
      "200\n",
      "1.0\n",
      "hello there\n"
     ]
    }
   ],
   "source": [
    "#import library\n",
    "import pyttsx3 \n",
    "#if any error when installation install the dependency library, If you receive errors such as No module named win32com.client, No module named win32, or No module named win32api, you will need to additionally install pypiwin32.     \n",
    "engine = pyttsx3.init()     #declare \n",
    "\n",
    "#engine.say(\"I will speak this text\")  #pass any string \n",
    "engine.runAndWait()  #output in voice format\n",
    "\n",
    "# Changing Voice , Rate and Volume\n",
    "\n",
    "import pyttsx3\n",
    "engine = pyttsx3.init() # object creation\n",
    "\n",
    "\"\"\" RATE\"\"\"\n",
    "rate = engine.getProperty('rate')   # getting details of current speaking rate\n",
    "print (rate)                    \t#printing current voice rate\n",
    "engine.setProperty('rate', 125) \t# setting up new voice rate\n",
    "\n",
    "#####VOLUME#####\n",
    "volume = engine.getProperty('volume')   #getting to know current volume level (min=0 and max=1)\n",
    "print (volume)                      \t#printing current volume level\n",
    "engine.setProperty('volume',1.0)\t# setting up volume level  between 0 and 1\n",
    "\n",
    "#####VOICE#####\n",
    "voices = engine.getProperty('voices')   \t#getting details of current voice\n",
    "#engine.setProperty('voice', voices[0].id)  #changing index, changes voices. o for male\n",
    "engine.setProperty('voice', voices[1].id)   #changing index, changes voices. 1 for female\n",
    "\n",
    "sen=engine.say(input())\n",
    "engine.say('My current speaking rate is ' + str(rate))\n",
    "engine.runAndWait()\n",
    "engine.stop()\n",
    "\n",
    "#####Saving Voice to a file#####\n",
    "# On linux make sure that 'espeak' and 'ffmpeg' are installed\n",
    "engine.save_to_file(sen, 'test.mp3')\n",
    "engine.runAndWait()"
   ]
  },
  {
   "cell_type": "code",
   "execution_count": 18,
   "id": "08a2aa3c",
   "metadata": {},
   "outputs": [
    {
     "name": "stdout",
     "output_type": "stream",
     "text": [
      "word None 1 171360\n",
      "finishing None True\n"
     ]
    }
   ],
   "source": [
    "import pyttsx3\n",
    "  \n",
    "def onStart():\n",
    "   print('starting')\n",
    "  \n",
    "def onWord(name, location, length):\n",
    "   print('word', name, location, length)\n",
    "  \n",
    "def onEnd(name, completed):\n",
    "   print('finishing', name, completed)\n",
    "  \n",
    "engine = pyttsx3.init()\n",
    "  \n",
    "engine.connect('started-utterance', onStart)\n",
    "engine.connect('started-word', onWord)\n",
    "engine.connect('finished-utterance', onEnd)\n",
    "  \n",
    "sen = 'Geeks for geeks is a computer portal for Geeks'\n",
    "  \n",
    "  \n",
    "engine.say(sen)\n",
    "engine.runAndWait()"
   ]
  },
  {
   "cell_type": "code",
   "execution_count": null,
   "id": "263bc991",
   "metadata": {},
   "outputs": [],
   "source": []
  }
 ],
 "metadata": {
  "kernelspec": {
   "display_name": "Python 3",
   "language": "python",
   "name": "python3"
  },
  "language_info": {
   "codemirror_mode": {
    "name": "ipython",
    "version": 3
   },
   "file_extension": ".py",
   "mimetype": "text/x-python",
   "name": "python",
   "nbconvert_exporter": "python",
   "pygments_lexer": "ipython3",
   "version": "3.8.8"
  }
 },
 "nbformat": 4,
 "nbformat_minor": 5
}
